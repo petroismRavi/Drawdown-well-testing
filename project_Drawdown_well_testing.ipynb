{
  "cells": [
    {
      "cell_type": "markdown",
      "metadata": {
        "id": "view-in-github",
        "colab_type": "text"
      },
      "source": [
        "<a href=\"https://colab.research.google.com/github/petroismRavi/Drawdown-well-testing/blob/main/project_Drawdown_well_testing.ipynb\" target=\"_parent\"><img src=\"https://colab.research.google.com/assets/colab-badge.svg\" alt=\"Open In Colab\"/></a>"
      ]
    },
    {
      "cell_type": "code",
      "execution_count": 1,
      "metadata": {
        "id": "x3cwqrUSsZjJ"
      },
      "outputs": [],
      "source": [
        "import numpy as np\n",
        "import pandas as pd\n",
        "import matplotlib.pyplot as plt\n",
        "import seaborn as sns"
      ]
    },
    {
      "cell_type": "markdown",
      "metadata": {
        "id": "aTxZos-DsZjK"
      },
      "source": [
        "# 1. Calculating Res-Permeability using Data : Well Test Analysis  (drawdown test)\n",
        "\n",
        "   ### NumPy | Plotting | Domain Concepts | Reservoir-Engineering\n",
        "\n",
        "## Pwf = Pi - m[log(t) + C]\n",
        "    \n",
        "    This equation comes from unsteady flow of compressible fluid"
      ]
    },
    {
      "cell_type": "code",
      "execution_count": 2,
      "metadata": {
        "id": "z307UKmssZjL"
      },
      "outputs": [],
      "source": [
        "df=pd.read_csv('https://raw.githubusercontent.com/Divyanshu-ISM/Petroleum-DS-ML-with-Python/main/Pt.csv')"
      ]
    },
    {
      "cell_type": "code",
      "execution_count": 3,
      "metadata": {
        "id": "MDzaOV72sZjL",
        "outputId": "8ea18b49-985c-4a7b-e88f-8f86a8baaedb",
        "colab": {
          "base_uri": "https://localhost:8080/",
          "height": 206
        }
      },
      "outputs": [
        {
          "output_type": "execute_result",
          "data": {
            "text/plain": [
              "     time  pressure\n",
              "0  0.0010   2743.96\n",
              "1  0.0021   2737.52\n",
              "2  0.0034   2730.16\n",
              "3  0.0048   2722.32\n",
              "4  0.0064   2713.83"
            ],
            "text/html": [
              "\n",
              "  <div id=\"df-1c15b3ec-f1b6-4ca9-85c9-cd0a2cd09b46\" class=\"colab-df-container\">\n",
              "    <div>\n",
              "<style scoped>\n",
              "    .dataframe tbody tr th:only-of-type {\n",
              "        vertical-align: middle;\n",
              "    }\n",
              "\n",
              "    .dataframe tbody tr th {\n",
              "        vertical-align: top;\n",
              "    }\n",
              "\n",
              "    .dataframe thead th {\n",
              "        text-align: right;\n",
              "    }\n",
              "</style>\n",
              "<table border=\"1\" class=\"dataframe\">\n",
              "  <thead>\n",
              "    <tr style=\"text-align: right;\">\n",
              "      <th></th>\n",
              "      <th>time</th>\n",
              "      <th>pressure</th>\n",
              "    </tr>\n",
              "  </thead>\n",
              "  <tbody>\n",
              "    <tr>\n",
              "      <th>0</th>\n",
              "      <td>0.0010</td>\n",
              "      <td>2743.96</td>\n",
              "    </tr>\n",
              "    <tr>\n",
              "      <th>1</th>\n",
              "      <td>0.0021</td>\n",
              "      <td>2737.52</td>\n",
              "    </tr>\n",
              "    <tr>\n",
              "      <th>2</th>\n",
              "      <td>0.0034</td>\n",
              "      <td>2730.16</td>\n",
              "    </tr>\n",
              "    <tr>\n",
              "      <th>3</th>\n",
              "      <td>0.0048</td>\n",
              "      <td>2722.32</td>\n",
              "    </tr>\n",
              "    <tr>\n",
              "      <th>4</th>\n",
              "      <td>0.0064</td>\n",
              "      <td>2713.83</td>\n",
              "    </tr>\n",
              "  </tbody>\n",
              "</table>\n",
              "</div>\n",
              "    <div class=\"colab-df-buttons\">\n",
              "\n",
              "  <div class=\"colab-df-container\">\n",
              "    <button class=\"colab-df-convert\" onclick=\"convertToInteractive('df-1c15b3ec-f1b6-4ca9-85c9-cd0a2cd09b46')\"\n",
              "            title=\"Convert this dataframe to an interactive table.\"\n",
              "            style=\"display:none;\">\n",
              "\n",
              "  <svg xmlns=\"http://www.w3.org/2000/svg\" height=\"24px\" viewBox=\"0 -960 960 960\">\n",
              "    <path d=\"M120-120v-720h720v720H120Zm60-500h600v-160H180v160Zm220 220h160v-160H400v160Zm0 220h160v-160H400v160ZM180-400h160v-160H180v160Zm440 0h160v-160H620v160ZM180-180h160v-160H180v160Zm440 0h160v-160H620v160Z\"/>\n",
              "  </svg>\n",
              "    </button>\n",
              "\n",
              "  <style>\n",
              "    .colab-df-container {\n",
              "      display:flex;\n",
              "      gap: 12px;\n",
              "    }\n",
              "\n",
              "    .colab-df-convert {\n",
              "      background-color: #E8F0FE;\n",
              "      border: none;\n",
              "      border-radius: 50%;\n",
              "      cursor: pointer;\n",
              "      display: none;\n",
              "      fill: #1967D2;\n",
              "      height: 32px;\n",
              "      padding: 0 0 0 0;\n",
              "      width: 32px;\n",
              "    }\n",
              "\n",
              "    .colab-df-convert:hover {\n",
              "      background-color: #E2EBFA;\n",
              "      box-shadow: 0px 1px 2px rgba(60, 64, 67, 0.3), 0px 1px 3px 1px rgba(60, 64, 67, 0.15);\n",
              "      fill: #174EA6;\n",
              "    }\n",
              "\n",
              "    .colab-df-buttons div {\n",
              "      margin-bottom: 4px;\n",
              "    }\n",
              "\n",
              "    [theme=dark] .colab-df-convert {\n",
              "      background-color: #3B4455;\n",
              "      fill: #D2E3FC;\n",
              "    }\n",
              "\n",
              "    [theme=dark] .colab-df-convert:hover {\n",
              "      background-color: #434B5C;\n",
              "      box-shadow: 0px 1px 3px 1px rgba(0, 0, 0, 0.15);\n",
              "      filter: drop-shadow(0px 1px 2px rgba(0, 0, 0, 0.3));\n",
              "      fill: #FFFFFF;\n",
              "    }\n",
              "  </style>\n",
              "\n",
              "    <script>\n",
              "      const buttonEl =\n",
              "        document.querySelector('#df-1c15b3ec-f1b6-4ca9-85c9-cd0a2cd09b46 button.colab-df-convert');\n",
              "      buttonEl.style.display =\n",
              "        google.colab.kernel.accessAllowed ? 'block' : 'none';\n",
              "\n",
              "      async function convertToInteractive(key) {\n",
              "        const element = document.querySelector('#df-1c15b3ec-f1b6-4ca9-85c9-cd0a2cd09b46');\n",
              "        const dataTable =\n",
              "          await google.colab.kernel.invokeFunction('convertToInteractive',\n",
              "                                                    [key], {});\n",
              "        if (!dataTable) return;\n",
              "\n",
              "        const docLinkHtml = 'Like what you see? Visit the ' +\n",
              "          '<a target=\"_blank\" href=https://colab.research.google.com/notebooks/data_table.ipynb>data table notebook</a>'\n",
              "          + ' to learn more about interactive tables.';\n",
              "        element.innerHTML = '';\n",
              "        dataTable['output_type'] = 'display_data';\n",
              "        await google.colab.output.renderOutput(dataTable, element);\n",
              "        const docLink = document.createElement('div');\n",
              "        docLink.innerHTML = docLinkHtml;\n",
              "        element.appendChild(docLink);\n",
              "      }\n",
              "    </script>\n",
              "  </div>\n",
              "\n",
              "\n",
              "<div id=\"df-30ec085d-81a8-47b0-bc9d-0314db0d3d17\">\n",
              "  <button class=\"colab-df-quickchart\" onclick=\"quickchart('df-30ec085d-81a8-47b0-bc9d-0314db0d3d17')\"\n",
              "            title=\"Suggest charts.\"\n",
              "            style=\"display:none;\">\n",
              "\n",
              "<svg xmlns=\"http://www.w3.org/2000/svg\" height=\"24px\"viewBox=\"0 0 24 24\"\n",
              "     width=\"24px\">\n",
              "    <g>\n",
              "        <path d=\"M19 3H5c-1.1 0-2 .9-2 2v14c0 1.1.9 2 2 2h14c1.1 0 2-.9 2-2V5c0-1.1-.9-2-2-2zM9 17H7v-7h2v7zm4 0h-2V7h2v10zm4 0h-2v-4h2v4z\"/>\n",
              "    </g>\n",
              "</svg>\n",
              "  </button>\n",
              "\n",
              "<style>\n",
              "  .colab-df-quickchart {\n",
              "      --bg-color: #E8F0FE;\n",
              "      --fill-color: #1967D2;\n",
              "      --hover-bg-color: #E2EBFA;\n",
              "      --hover-fill-color: #174EA6;\n",
              "      --disabled-fill-color: #AAA;\n",
              "      --disabled-bg-color: #DDD;\n",
              "  }\n",
              "\n",
              "  [theme=dark] .colab-df-quickchart {\n",
              "      --bg-color: #3B4455;\n",
              "      --fill-color: #D2E3FC;\n",
              "      --hover-bg-color: #434B5C;\n",
              "      --hover-fill-color: #FFFFFF;\n",
              "      --disabled-bg-color: #3B4455;\n",
              "      --disabled-fill-color: #666;\n",
              "  }\n",
              "\n",
              "  .colab-df-quickchart {\n",
              "    background-color: var(--bg-color);\n",
              "    border: none;\n",
              "    border-radius: 50%;\n",
              "    cursor: pointer;\n",
              "    display: none;\n",
              "    fill: var(--fill-color);\n",
              "    height: 32px;\n",
              "    padding: 0;\n",
              "    width: 32px;\n",
              "  }\n",
              "\n",
              "  .colab-df-quickchart:hover {\n",
              "    background-color: var(--hover-bg-color);\n",
              "    box-shadow: 0 1px 2px rgba(60, 64, 67, 0.3), 0 1px 3px 1px rgba(60, 64, 67, 0.15);\n",
              "    fill: var(--button-hover-fill-color);\n",
              "  }\n",
              "\n",
              "  .colab-df-quickchart-complete:disabled,\n",
              "  .colab-df-quickchart-complete:disabled:hover {\n",
              "    background-color: var(--disabled-bg-color);\n",
              "    fill: var(--disabled-fill-color);\n",
              "    box-shadow: none;\n",
              "  }\n",
              "\n",
              "  .colab-df-spinner {\n",
              "    border: 2px solid var(--fill-color);\n",
              "    border-color: transparent;\n",
              "    border-bottom-color: var(--fill-color);\n",
              "    animation:\n",
              "      spin 1s steps(1) infinite;\n",
              "  }\n",
              "\n",
              "  @keyframes spin {\n",
              "    0% {\n",
              "      border-color: transparent;\n",
              "      border-bottom-color: var(--fill-color);\n",
              "      border-left-color: var(--fill-color);\n",
              "    }\n",
              "    20% {\n",
              "      border-color: transparent;\n",
              "      border-left-color: var(--fill-color);\n",
              "      border-top-color: var(--fill-color);\n",
              "    }\n",
              "    30% {\n",
              "      border-color: transparent;\n",
              "      border-left-color: var(--fill-color);\n",
              "      border-top-color: var(--fill-color);\n",
              "      border-right-color: var(--fill-color);\n",
              "    }\n",
              "    40% {\n",
              "      border-color: transparent;\n",
              "      border-right-color: var(--fill-color);\n",
              "      border-top-color: var(--fill-color);\n",
              "    }\n",
              "    60% {\n",
              "      border-color: transparent;\n",
              "      border-right-color: var(--fill-color);\n",
              "    }\n",
              "    80% {\n",
              "      border-color: transparent;\n",
              "      border-right-color: var(--fill-color);\n",
              "      border-bottom-color: var(--fill-color);\n",
              "    }\n",
              "    90% {\n",
              "      border-color: transparent;\n",
              "      border-bottom-color: var(--fill-color);\n",
              "    }\n",
              "  }\n",
              "</style>\n",
              "\n",
              "  <script>\n",
              "    async function quickchart(key) {\n",
              "      const quickchartButtonEl =\n",
              "        document.querySelector('#' + key + ' button');\n",
              "      quickchartButtonEl.disabled = true;  // To prevent multiple clicks.\n",
              "      quickchartButtonEl.classList.add('colab-df-spinner');\n",
              "      try {\n",
              "        const charts = await google.colab.kernel.invokeFunction(\n",
              "            'suggestCharts', [key], {});\n",
              "      } catch (error) {\n",
              "        console.error('Error during call to suggestCharts:', error);\n",
              "      }\n",
              "      quickchartButtonEl.classList.remove('colab-df-spinner');\n",
              "      quickchartButtonEl.classList.add('colab-df-quickchart-complete');\n",
              "    }\n",
              "    (() => {\n",
              "      let quickchartButtonEl =\n",
              "        document.querySelector('#df-30ec085d-81a8-47b0-bc9d-0314db0d3d17 button');\n",
              "      quickchartButtonEl.style.display =\n",
              "        google.colab.kernel.accessAllowed ? 'block' : 'none';\n",
              "    })();\n",
              "  </script>\n",
              "</div>\n",
              "    </div>\n",
              "  </div>\n"
            ]
          },
          "metadata": {},
          "execution_count": 3
        }
      ],
      "source": [
        "df.head()"
      ]
    },
    {
      "cell_type": "markdown",
      "metadata": {
        "id": "GVi_BhpfsZjL"
      },
      "source": [
        "## A. Cartesian Analysis : Tells what kind of test is it."
      ]
    },
    {
      "cell_type": "code",
      "execution_count": 4,
      "metadata": {
        "id": "S0V6WQgWsZjL",
        "outputId": "1348670a-812a-4868-dd99-68cf343b799d",
        "colab": {
          "base_uri": "https://localhost:8080/",
          "height": 374
        }
      },
      "outputs": [
        {
          "output_type": "display_data",
          "data": {
            "text/plain": [
              "<Figure size 1200x400 with 1 Axes>"
            ],
            "image/png": "[encoded data removed]"
          },
          "metadata": {}
        }
      ],
      "source": [
        "plt.style.use('default')\n",
        "plt.figure(figsize=(12,4))\n",
        "plt.plot(df['time'],df['pressure'],lw=3)\n",
        "plt.xlabel('Time')\n",
        "plt.ylabel('Pressure')\n",
        "plt.title('Cartesian Plot : Drawdown Testing')\n",
        "plt.grid()"
      ]
    },
    {
      "cell_type": "markdown",
      "metadata": {
        "id": "AwpZCwf1sZjM"
      },
      "source": [
        "## B. Semilog Analysis : High level searching for MTR."
      ]
    },
    {
      "cell_type": "code",
      "execution_count": 5,
      "metadata": {
        "id": "wTH7vy_AsZjM",
        "outputId": "b64ff011-0f98-4cff-8d55-107f800df48a",
        "colab": {
          "base_uri": "https://localhost:8080/",
          "height": 378
        }
      },
      "outputs": [
        {
          "output_type": "display_data",
          "data": {
            "text/plain": [
              "<Figure size 1200x400 with 1 Axes>"
            ],
            "image/png": "[encoded data removed]"
          },
          "metadata": {}
        }
      ],
      "source": [
        "plt.style.use('default')\n",
        "plt.figure(figsize=(12,4))\n",
        "plt.semilogx(df['time'],df['pressure'],lw=3)\n",
        "plt.xlabel('Log_Time')\n",
        "plt.ylabel('Pressure')\n",
        "plt.title('Semilog Plot : Drawdown Testing')\n",
        "plt.grid()"
      ]
    },
    {
      "cell_type": "markdown",
      "metadata": {
        "id": "ytA95owFsZjM"
      },
      "source": [
        "## C. Log-Log Plot : Computations."
      ]
    },
    {
      "cell_type": "code",
      "execution_count": null,
      "metadata": {
        "id": "g4hpPOEzsZjM"
      },
      "outputs": [],
      "source": [
        "Pi = 2760 #psi Given\n",
        "\n",
        "df['delP'] = np.abs(Pi - df['pressure'])\n",
        "\n",
        "#note that np.diff(P) does what we call as 'dP' in 'dP/dt'.\n",
        "#But it reduces one element.\n",
        "df['d(delP)'] = np.zeros(len(df))\n",
        "df['d(delP)'].iloc[1:] = np.abs(np.diff(df['delP']))\n",
        "\n",
        "\n",
        "df['dt'] = np.zeros(len(df))\n",
        "df['dt'].iloc[1:] = np.diff(df['time'])\n",
        "\n",
        "\n",
        "#P' (Pdash) = t*dP/dt\n",
        "df['Pdash'] = np.zeros(len(df))\n",
        "df['Pdash'].iloc[1:] = df['time']*df['d(delP)']/df['dt']\n",
        "\n",
        "\n",
        "df.head()\n",
        "\n"
      ]
    },
    {
      "cell_type": "code",
      "execution_count": null,
      "metadata": {
        "id": "szWfSA3VsZjM"
      },
      "outputs": [],
      "source": [
        "\n",
        "\n",
        "plt.style.use('default')\n",
        "plt.figure(figsize=(12,4))\n",
        "\n",
        "plt.loglog(df['time'], df['Pdash'],'o',label='Derivative, Pdash')\n",
        "plt.loglog(df['time'], df['delP'],'o',label='Differential Pr, Del(P)')\n",
        "\n",
        "plt.axvspan(1,100,color='green',alpha=0.2,label='IARF')\n",
        "\n",
        "plt.xlabel('Time(Log Axis)') ; plt.ylabel('Pressure(Log Axis)')\n",
        "\n",
        "plt.title('Log-Log/Derivative/Diagnostic Plot : Drawdown Testing')\n",
        "\n",
        "\n",
        "plt.legend()\n",
        "plt.grid(True, which=\"both\")\n",
        "\n"
      ]
    },
    {
      "cell_type": "code",
      "execution_count": null,
      "metadata": {
        "id": "yUEgd3unsZjN"
      },
      "outputs": [],
      "source": [
        "tmin_iarf = 1 #hr\n",
        "tmax_iarf = 50 #hrs"
      ]
    },
    {
      "cell_type": "markdown",
      "metadata": {
        "id": "jeuUAmTZsZjN"
      },
      "source": [
        "## D. Semi-Log Plot for IARF MTR only"
      ]
    },
    {
      "cell_type": "code",
      "execution_count": null,
      "metadata": {
        "id": "9LFoxdw4sZjN"
      },
      "outputs": [],
      "source": [
        "df_semilog = df[(df['time']>=tmin_iarf) & (df['time'] <= tmax_iarf)]"
      ]
    },
    {
      "cell_type": "code",
      "execution_count": null,
      "metadata": {
        "id": "EaDVjb0hsZjN"
      },
      "outputs": [],
      "source": [
        "plt.style.use('default')\n",
        "plt.figure(figsize=(12,4))\n",
        "\n",
        "plt.semilogx(df['time'], df['pressure'],'x',color='green',label='All Time Domains')\n",
        "plt.semilogx(df_semilog['time'], df_semilog['pressure'],color='black',lw=3.5,label='Middle Time Region/IARF')\n",
        "\n",
        "plt.xlabel('Log-Time') ; plt.ylabel('Pressure')\n",
        "\n",
        "plt.title('Semilog Plot : Drawdown Testing')\n",
        "\n",
        "plt.legend()\n",
        "plt.grid()"
      ]
    },
    {
      "cell_type": "markdown",
      "metadata": {
        "id": "n9gEMVABsZjN"
      },
      "source": [
        "## CONCLUSION : Finding Permeability"
      ]
    },
    {
      "cell_type": "code",
      "execution_count": null,
      "metadata": {
        "id": "OjAIFsSCsZjN"
      },
      "outputs": [],
      "source": [
        "t = np.log(df_semilog['time'])\n",
        "P = df_semilog['pressure']\n",
        "\n",
        "\n",
        "sns.regplot(t,P)"
      ]
    },
    {
      "cell_type": "code",
      "execution_count": null,
      "metadata": {
        "id": "PcMiJZDGsZjN"
      },
      "outputs": [],
      "source": [
        "#Polyfit\n",
        "np.polyfit(t,P,1)"
      ]
    },
    {
      "cell_type": "code",
      "execution_count": null,
      "metadata": {
        "id": "2R6vvxf4sZjN"
      },
      "outputs": [],
      "source": [
        "[slope,intercept]=np.polyfit(t,P,1)"
      ]
    },
    {
      "cell_type": "code",
      "execution_count": null,
      "metadata": {
        "id": "_sYSXnGbsZjN"
      },
      "outputs": [],
      "source": [
        "abs(slope)"
      ]
    },
    {
      "cell_type": "code",
      "execution_count": null,
      "metadata": {
        "id": "XwJsZTCvsZjN"
      },
      "outputs": [],
      "source": [
        "m = abs(slope)"
      ]
    },
    {
      "cell_type": "markdown",
      "metadata": {
        "id": "_0723t06sZjN"
      },
      "source": [
        "[image.png](attachment:image.png)"
      ]
    },
    {
      "cell_type": "code",
      "execution_count": null,
      "metadata": {
        "id": "0VavxvFksZjN"
      },
      "outputs": [],
      "source": [
        "q = 125 #stb/d\n",
        "mu = 2.1 #cp\n",
        "B = 1.14 #rb/Stb\n",
        "h = 50 #ft\n",
        "\n",
        "k = 162.6*q*mu/m/h\n",
        "\n",
        "print(f'Formation Permeability is : {np.round(k,2)} miliDarcies')"
      ]
    },
    {
      "cell_type": "code",
      "execution_count": null,
      "metadata": {
        "id": "cuHVxTdpsZjN"
      },
      "outputs": [],
      "source": [
        "s=1.51(((p1hr-pi)/m)-np.log(k/(fi*mu*ct*(rw**2)))+3.23)"
      ]
    },
    {
      "cell_type": "markdown",
      "metadata": {
        "id": "vako684rsZjN"
      },
      "source": [
        "##  Finding Skin Factor"
      ]
    },
    {
      "cell_type": "code",
      "execution_count": null,
      "metadata": {
        "id": "26D1dsN7sZjO"
      },
      "outputs": [],
      "source": [
        "p1hr=954\n",
        "pi=1154\n",
        "m=-22\n",
        "k=89\n",
        "fi=0.2\n",
        "mu=3.93\n",
        "ct=8.74*(10**-6)\n",
        "rw=0.25"
      ]
    },
    {
      "cell_type": "code",
      "execution_count": null,
      "metadata": {
        "id": "RD2NKmrGsZjO"
      },
      "outputs": [],
      "source": [
        "s=1.51*(((p1hr-pi)/m)-np.log10(k/(fi*mu*ct*(rw**2)))+3.23)"
      ]
    },
    {
      "cell_type": "code",
      "execution_count": null,
      "metadata": {
        "id": "Keb_qsNEsZjO"
      },
      "outputs": [],
      "source": [
        "s"
      ]
    },
    {
      "cell_type": "code",
      "execution_count": null,
      "metadata": {
        "id": "Sqf10ooAsZjO"
      },
      "outputs": [],
      "source": [
        "(p1hr-pi)/m"
      ]
    },
    {
      "cell_type": "code",
      "execution_count": null,
      "metadata": {
        "id": "6t5apVbWsZjO"
      },
      "outputs": [],
      "source": [
        "np.log10(k/(fi*mu*ct*(rw**2)))"
      ]
    },
    {
      "cell_type": "code",
      "execution_count": null,
      "metadata": {
        "id": "GGi2Sv8LsZjO"
      },
      "outputs": [],
      "source": [
        "(p1hr-pi)/m + 3.23 -8.3"
      ]
    },
    {
      "cell_type": "code",
      "execution_count": null,
      "metadata": {
        "id": "0mJurgXssZjO"
      },
      "outputs": [],
      "source": []
    }
  ],
  "metadata": {
    "kernelspec": {
      "display_name": "Python 3",
      "language": "python",
      "name": "python3"
    },
    "language_info": {
      "codemirror_mode": {
        "name": "ipython",
        "version": 3
      },
      "file_extension": ".py",
      "mimetype": "text/x-python",
      "name": "python",
      "nbconvert_exporter": "python",
      "pygments_lexer": "ipython3",
      "version": "3.8.5"
    },
    "colab": {
      "provenance": [],
      "include_colab_link": true
    }
  },
  "nbformat": 4,
  "nbformat_minor": 0
}